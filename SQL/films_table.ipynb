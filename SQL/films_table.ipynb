{
    "metadata": {
        "kernelspec": {
            "name": "SQL",
            "display_name": "SQL",
            "language": "sql"
        },
        "language_info": {
            "name": "sql",
            "version": ""
        }
    },
    "nbformat_minor": 2,
    "nbformat": 4,
    "cells": [
        {
            "cell_type": "code",
            "source": [
                "DROP TABLE IF EXISTS films \n",
                "\n",
                "CREATE TABLE films (\n",
                "    film_name VARCHAR(255),\n",
                "    film_type VARCHAR(255),\n",
                "    date_of_release DATE,\n",
                "    director VARCHAR(255),\n",
                "    writer VARCHAR(255),\n",
                "    star VARCHAR(255),\n",
                "    film_language VARCHAR(255),\n",
                "    official_website VARCHAR(255),\n",
                "    plot_summary TEXT\n",
                ");\n",
                "\n",
                "INSERT INTO films (\n",
                "    film_name, film_type, date_of_release, director, writer, star, film_language, official_website, plot_summary\n",
                ") VALUES \n",
                "    ('Casino Royale', 'Action/Adventure', '2006-11-17', 'Martin Campbell', 'Neal Purvis, Robert Wade, and Paul Haggis', 'Daniel Craig', 'English', 'https://www.mgm.com/movies/casino-royale-2', 'Armed with a license to kill, Secret Agent James Bond sets out on his first mission as 007 and must defeat a weapons dealer in a high stakes game of poker at Casino Royale, but things are not what they seem.'),\n",
                "    ('John Wick', 'Action/Thriller', '2014-10-24', 'Chad Stahelski', 'Derek Kolstad', 'Keanu Reeves', 'English', 'https://www.lionsgate.com/movies/john-wick', 'An ex-hitman comes out of retirement to track down the gangsters that took everything from him.'),\n",
                "    ('The Pursuit of Happyness', 'Biography/Drama', '2006-12-15', 'Gabriele Muccino', 'Steve Conrad', 'Will Smith', 'English', 'https://www.sonypictures.com/movies/thepursuitofhappyness', 'A struggling salesman takes custody of his son as he is poised to begin a life-changing professional career.');\n",
                "\n",
                ""
            ],
            "metadata": {
                "azdata_cell_guid": "8644720c-1d47-447c-9942-6e1815ef8cb8",
                "language": "sql"
            },
            "outputs": [
                {
                    "output_type": "display_data",
                    "data": {
                        "text/html": "(3 rows affected)"
                    },
                    "metadata": {}
                },
                {
                    "output_type": "display_data",
                    "data": {
                        "text/html": "Total execution time: 00:00:00.083"
                    },
                    "metadata": {}
                }
            ],
            "execution_count": 15
        }
    ]
}