{
 "cells": [
  {
   "cell_type": "code",
   "execution_count": 14,
   "metadata": {},
   "outputs": [
    {
     "name": "stdout",
     "output_type": "stream",
     "text": [
      "24\n",
      "Game has begun\n",
      "Select a number between 1 and 100\n",
      "too high, try again\n",
      "Select a number between 1 and 100\n",
      "too high, try again\n",
      "Select a number between 1 and 100\n",
      "too low, try again\n",
      "Select a number between 1 and 100\n",
      "too low, try again\n",
      "Select a number between 1 and 100\n",
      "too low, try again\n",
      "Select a number between 1 and 100\n",
      "correct guess\n"
     ]
    }
   ],
   "source": [
    "import random\n",
    "\n",
    "game_random_number = random.randint(1, 100)\n",
    "print(game_random_number)\n",
    "\n",
    "game_active = True\n",
    "game_start_message = \"Game has begun\"\n",
    "print(game_start_message)\n",
    "\n",
    "while game_active:\n",
    "    print('Select a number between 1 and 100')\n",
    "    user_guess = int(input()) \n",
    "    if user_guess == game_random_number:\n",
    "        game_active = False\n",
    "        print('correct guess')\n",
    "    elif user_guess > game_random_number:\n",
    "        print('too high, try again')\n",
    "    else:\n",
    "        print('too low, try again')\n"
   ]
  },
  {
   "cell_type": "code",
   "execution_count": null,
   "metadata": {},
   "outputs": [],
   "source": []
  }
 ],
 "metadata": {
  "kernelspec": {
   "display_name": ".venv",
   "language": "python",
   "name": "python3"
  },
  "language_info": {
   "codemirror_mode": {
    "name": "ipython",
    "version": 3
   },
   "file_extension": ".py",
   "mimetype": "text/x-python",
   "name": "python",
   "nbconvert_exporter": "python",
   "pygments_lexer": "ipython3",
   "version": "3.10.4"
  },
  "orig_nbformat": 4
 },
 "nbformat": 4,
 "nbformat_minor": 2
}
