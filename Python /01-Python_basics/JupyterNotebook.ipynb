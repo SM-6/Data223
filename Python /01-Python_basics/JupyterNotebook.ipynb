{
 "cells": [
  {
   "cell_type": "code",
   "execution_count": 2,
   "metadata": {},
   "outputs": [
    {
     "data": {
      "text/plain": [
       "9"
      ]
     },
     "execution_count": 2,
     "metadata": {},
     "output_type": "execute_result"
    }
   ],
   "source": [
    "def add(a, b):\n",
    "    return a +b \n",
    "\n",
    "add(4, 5)"
   ]
  },
  {
   "attachments": {},
   "cell_type": "markdown",
   "metadata": {},
   "source": [
    "# While loop"
   ]
  },
  {
   "cell_type": "code",
   "execution_count": null,
   "metadata": {},
   "outputs": [],
   "source": [
    "statemnet = True \n",
    "\n",
    "while statemnet:\n",
    "    print('Learning the danger of a loop')"
   ]
  },
  {
   "cell_type": "code",
   "execution_count": 4,
   "metadata": {},
   "outputs": [
    {
     "name": "stdout",
     "output_type": "stream",
     "text": [
      "0\n",
      "less than five\n",
      "1\n",
      "less than five\n",
      "2\n",
      "less than five\n",
      "3\n",
      "less than five\n",
      "4\n",
      "less than five\n"
     ]
    }
   ],
   "source": [
    "counter = 0 \n",
    "\n",
    "while counter < 5:\n",
    "    print(counter)\n",
    "    print(\"less than five\")\n",
    "    counter += 1"
   ]
  },
  {
   "cell_type": "code",
   "execution_count": 6,
   "metadata": {},
   "outputs": [
    {
     "name": "stdout",
     "output_type": "stream",
     "text": [
      "even 0\n",
      "odd\n",
      "even 2\n",
      "odd\n",
      "even 4\n"
     ]
    }
   ],
   "source": [
    "counter = 0 \n",
    "\n",
    "while counter < 5:\n",
    "    if counter % 2 == 0:\n",
    "        print('even', counter)\n",
    "    else:\n",
    "        print('odd')\n",
    "    \n",
    "    counter += 1"
   ]
  },
  {
   "attachments": {},
   "cell_type": "markdown",
   "metadata": {},
   "source": [
    "# For loop "
   ]
  },
  {
   "cell_type": "code",
   "execution_count": 11,
   "metadata": {},
   "outputs": [
    {
     "name": "stdout",
     "output_type": "stream",
     "text": [
      "t\n",
      "e\n",
      "x\n",
      "t\n"
     ]
    }
   ],
   "source": [
    "example_string = \"text\"\n",
    "\n",
    "for letter in example_string:\n",
    "    print(letter)\n"
   ]
  },
  {
   "cell_type": "code",
   "execution_count": 12,
   "metadata": {},
   "outputs": [
    {
     "name": "stdout",
     "output_type": "stream",
     "text": [
      "1\n",
      "2\n",
      "3\n",
      "4\n"
     ]
    }
   ],
   "source": [
    "list_of_numbers = [1, 2, 3, 4,]\n",
    "\n",
    "for number in list_of_numbers:\n",
    "    print(number)"
   ]
  },
  {
   "cell_type": "code",
   "execution_count": 17,
   "metadata": {},
   "outputs": [
    {
     "name": "stdout",
     "output_type": "stream",
     "text": [
      "dict_keys(['name', 'age'])\n",
      "Peter\n",
      "22\n"
     ]
    }
   ],
   "source": [
    "customers ={\n",
    "    'name': 'Peter',\n",
    "    'age': '22'\n",
    "}\n",
    "\n",
    "print(customers.keys())\n",
    "\n",
    "for customer in customers.values():\n",
    "    print(customer)"
   ]
  },
  {
   "attachments": {},
   "cell_type": "markdown",
   "metadata": {},
   "source": [
    "# Functions "
   ]
  },
  {
   "cell_type": "code",
   "execution_count": 28,
   "metadata": {},
   "outputs": [
    {
     "data": {
      "text/plain": [
       "'Shehryar Mughal Revision'"
      ]
     },
     "execution_count": 28,
     "metadata": {},
     "output_type": "execute_result"
    }
   ],
   "source": [
    "def first_name(name):\n",
    "    return(name)\n",
    "\n",
    "first_name('Shehryar')\n",
    "\n",
    "def full_name(first, second):\n",
    "    return first + ' ' + second + ' Revision'\n",
    "\n",
    "full_name('Shehryar', 'Mughal')"
   ]
  }
 ],
 "metadata": {
  "kernelspec": {
   "display_name": ".venv",
   "language": "python",
   "name": "python3"
  },
  "language_info": {
   "codemirror_mode": {
    "name": "ipython",
    "version": 3
   },
   "file_extension": ".py",
   "mimetype": "text/x-python",
   "name": "python",
   "nbconvert_exporter": "python",
   "pygments_lexer": "ipython3",
   "version": "3.10.4"
  },
  "orig_nbformat": 4
 },
 "nbformat": 4,
 "nbformat_minor": 2
}
