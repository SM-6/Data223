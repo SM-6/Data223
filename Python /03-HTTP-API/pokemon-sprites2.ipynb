{
 "cells": [
  {
   "cell_type": "code",
   "execution_count": 5,
   "metadata": {},
   "outputs": [
    {
     "name": "stdout",
     "output_type": "stream",
     "text": [
      "Here are 20 random Pokemon from the Kanto Pokedex:\n",
      "golem           (Type: rock      , Ability: rock-head           )\n"
     ]
    },
    {
     "data": {
      "text/html": [
       "<img src=\"https://raw.githubusercontent.com/PokeAPI/sprites/master/sprites/pokemon/76.png\"/>"
      ],
      "text/plain": [
       "<IPython.core.display.Image object>"
      ]
     },
     "metadata": {},
     "output_type": "display_data"
    },
    {
     "name": "stdout",
     "output_type": "stream",
     "text": [
      "clefairy        (Type: fairy     , Ability: cute-charm          )\n"
     ]
    },
    {
     "data": {
      "text/html": [
       "<img src=\"https://raw.githubusercontent.com/PokeAPI/sprites/master/sprites/pokemon/35.png\"/>"
      ],
      "text/plain": [
       "<IPython.core.display.Image object>"
      ]
     },
     "metadata": {},
     "output_type": "display_data"
    },
    {
     "name": "stdout",
     "output_type": "stream",
     "text": [
      "electabuzz      (Type: electric  , Ability: static              )\n"
     ]
    },
    {
     "data": {
      "text/html": [
       "<img src=\"https://raw.githubusercontent.com/PokeAPI/sprites/master/sprites/pokemon/125.png\"/>"
      ],
      "text/plain": [
       "<IPython.core.display.Image object>"
      ]
     },
     "metadata": {},
     "output_type": "display_data"
    },
    {
     "name": "stdout",
     "output_type": "stream",
     "text": [
      "ninetales       (Type: fire      , Ability: flash-fire          )\n"
     ]
    },
    {
     "data": {
      "text/html": [
       "<img src=\"https://raw.githubusercontent.com/PokeAPI/sprites/master/sprites/pokemon/38.png\"/>"
      ],
      "text/plain": [
       "<IPython.core.display.Image object>"
      ]
     },
     "metadata": {},
     "output_type": "display_data"
    },
    {
     "name": "stdout",
     "output_type": "stream",
     "text": [
      "staryu          (Type: water     , Ability: illuminate          )\n"
     ]
    },
    {
     "data": {
      "text/html": [
       "<img src=\"https://raw.githubusercontent.com/PokeAPI/sprites/master/sprites/pokemon/120.png\"/>"
      ],
      "text/plain": [
       "<IPython.core.display.Image object>"
      ]
     },
     "metadata": {},
     "output_type": "display_data"
    },
    {
     "name": "stdout",
     "output_type": "stream",
     "text": [
      "paras           (Type: bug       , Ability: effect-spore        )\n"
     ]
    },
    {
     "data": {
      "text/html": [
       "<img src=\"https://raw.githubusercontent.com/PokeAPI/sprites/master/sprites/pokemon/46.png\"/>"
      ],
      "text/plain": [
       "<IPython.core.display.Image object>"
      ]
     },
     "metadata": {},
     "output_type": "display_data"
    },
    {
     "name": "stdout",
     "output_type": "stream",
     "text": [
      "articuno        (Type: ice       , Ability: pressure            )\n"
     ]
    },
    {
     "data": {
      "text/html": [
       "<img src=\"https://raw.githubusercontent.com/PokeAPI/sprites/master/sprites/pokemon/144.png\"/>"
      ],
      "text/plain": [
       "<IPython.core.display.Image object>"
      ]
     },
     "metadata": {},
     "output_type": "display_data"
    },
    {
     "name": "stdout",
     "output_type": "stream",
     "text": [
      "magikarp        (Type: water     , Ability: swift-swim          )\n"
     ]
    },
    {
     "data": {
      "text/html": [
       "<img src=\"https://raw.githubusercontent.com/PokeAPI/sprites/master/sprites/pokemon/129.png\"/>"
      ],
      "text/plain": [
       "<IPython.core.display.Image object>"
      ]
     },
     "metadata": {},
     "output_type": "display_data"
    },
    {
     "name": "stdout",
     "output_type": "stream",
     "text": [
      "poliwrath       (Type: water     , Ability: water-absorb        )\n"
     ]
    },
    {
     "data": {
      "text/html": [
       "<img src=\"https://raw.githubusercontent.com/PokeAPI/sprites/master/sprites/pokemon/62.png\"/>"
      ],
      "text/plain": [
       "<IPython.core.display.Image object>"
      ]
     },
     "metadata": {},
     "output_type": "display_data"
    },
    {
     "name": "stdout",
     "output_type": "stream",
     "text": [
      "mr-mime         (Type: psychic   , Ability: soundproof          )\n"
     ]
    },
    {
     "data": {
      "text/html": [
       "<img src=\"https://raw.githubusercontent.com/PokeAPI/sprites/master/sprites/pokemon/122.png\"/>"
      ],
      "text/plain": [
       "<IPython.core.display.Image object>"
      ]
     },
     "metadata": {},
     "output_type": "display_data"
    },
    {
     "name": "stdout",
     "output_type": "stream",
     "text": [
      "nidoran-f       (Type: poison    , Ability: poison-point        )\n"
     ]
    },
    {
     "data": {
      "text/html": [
       "<img src=\"https://raw.githubusercontent.com/PokeAPI/sprites/master/sprites/pokemon/29.png\"/>"
      ],
      "text/plain": [
       "<IPython.core.display.Image object>"
      ]
     },
     "metadata": {},
     "output_type": "display_data"
    },
    {
     "name": "stdout",
     "output_type": "stream",
     "text": [
      "cubone          (Type: ground    , Ability: rock-head           )\n"
     ]
    },
    {
     "data": {
      "text/html": [
       "<img src=\"https://raw.githubusercontent.com/PokeAPI/sprites/master/sprites/pokemon/104.png\"/>"
      ],
      "text/plain": [
       "<IPython.core.display.Image object>"
      ]
     },
     "metadata": {},
     "output_type": "display_data"
    },
    {
     "name": "stdout",
     "output_type": "stream",
     "text": [
      "wigglytuff      (Type: normal    , Ability: cute-charm          )\n"
     ]
    },
    {
     "data": {
      "text/html": [
       "<img src=\"https://raw.githubusercontent.com/PokeAPI/sprites/master/sprites/pokemon/40.png\"/>"
      ],
      "text/plain": [
       "<IPython.core.display.Image object>"
      ]
     },
     "metadata": {},
     "output_type": "display_data"
    },
    {
     "name": "stdout",
     "output_type": "stream",
     "text": [
      "primeape        (Type: fighting  , Ability: vital-spirit        )\n"
     ]
    },
    {
     "data": {
      "text/html": [
       "<img src=\"https://raw.githubusercontent.com/PokeAPI/sprites/master/sprites/pokemon/57.png\"/>"
      ],
      "text/plain": [
       "<IPython.core.display.Image object>"
      ]
     },
     "metadata": {},
     "output_type": "display_data"
    },
    {
     "name": "stdout",
     "output_type": "stream",
     "text": [
      "tentacruel      (Type: water     , Ability: clear-body          )\n"
     ]
    },
    {
     "data": {
      "text/html": [
       "<img src=\"https://raw.githubusercontent.com/PokeAPI/sprites/master/sprites/pokemon/73.png\"/>"
      ],
      "text/plain": [
       "<IPython.core.display.Image object>"
      ]
     },
     "metadata": {},
     "output_type": "display_data"
    },
    {
     "name": "stdout",
     "output_type": "stream",
     "text": [
      "dratini         (Type: dragon    , Ability: shed-skin           )\n"
     ]
    },
    {
     "data": {
      "text/html": [
       "<img src=\"https://raw.githubusercontent.com/PokeAPI/sprites/master/sprites/pokemon/147.png\"/>"
      ],
      "text/plain": [
       "<IPython.core.display.Image object>"
      ]
     },
     "metadata": {},
     "output_type": "display_data"
    },
    {
     "name": "stdout",
     "output_type": "stream",
     "text": [
      "beedrill        (Type: bug       , Ability: swarm               )\n"
     ]
    },
    {
     "data": {
      "text/html": [
       "<img src=\"https://raw.githubusercontent.com/PokeAPI/sprites/master/sprites/pokemon/15.png\"/>"
      ],
      "text/plain": [
       "<IPython.core.display.Image object>"
      ]
     },
     "metadata": {},
     "output_type": "display_data"
    },
    {
     "name": "stdout",
     "output_type": "stream",
     "text": [
      "horsea          (Type: water     , Ability: swift-swim          )\n"
     ]
    },
    {
     "data": {
      "text/html": [
       "<img src=\"https://raw.githubusercontent.com/PokeAPI/sprites/master/sprites/pokemon/116.png\"/>"
      ],
      "text/plain": [
       "<IPython.core.display.Image object>"
      ]
     },
     "metadata": {},
     "output_type": "display_data"
    },
    {
     "name": "stdout",
     "output_type": "stream",
     "text": [
      "tauros          (Type: normal    , Ability: intimidate          )\n"
     ]
    },
    {
     "data": {
      "text/html": [
       "<img src=\"https://raw.githubusercontent.com/PokeAPI/sprites/master/sprites/pokemon/128.png\"/>"
      ],
      "text/plain": [
       "<IPython.core.display.Image object>"
      ]
     },
     "metadata": {},
     "output_type": "display_data"
    },
    {
     "name": "stdout",
     "output_type": "stream",
     "text": [
      "shellder        (Type: water     , Ability: shell-armor         )\n"
     ]
    },
    {
     "data": {
      "text/html": [
       "<img src=\"https://raw.githubusercontent.com/PokeAPI/sprites/master/sprites/pokemon/90.png\"/>"
      ],
      "text/plain": [
       "<IPython.core.display.Image object>"
      ]
     },
     "metadata": {},
     "output_type": "display_data"
    },
    {
     "name": "stdout",
     "output_type": "stream",
     "text": [
      "\n",
      "s, choose your Pokemon!\n",
      "\n",
      "p, choose your Pokemon!\n",
      "Player 1: SHELLDER with total base stats: 305\n",
      "\n",
      "Player 2: TAUROS with total base stats: 490\n",
      "\n",
      "Let the battle begin!\n",
      "\n",
      "Let the battle begin!\n",
      "\n",
      "TAUROS attacks first!\n",
      "\n",
      "TAUROS attacks with 291 strength!\n",
      "SHELLDER counterattacks with 6 strength!\n",
      "TAUROS attacks with 120 strength!\n",
      "\n",
      "The battle is over!\n",
      "\n",
      "TAUROS wins!\n"
     ]
    }
   ],
   "source": [
    "import requests\n",
    "import random\n",
    "import time\n",
    "from IPython.display import display, Image\n",
    "\n",
    "def get_pokemon_details(pokemon):\n",
    "    pokemon_data = requests.get(pokemon['pokemon_species']['url']).json()\n",
    "    pokemon_name = pokemon_data['name']\n",
    "    pokemon_url = pokemon_data['varieties'][0]['pokemon']['url']\n",
    "    pokemon_details = requests.get(pokemon_url).json()\n",
    "    pokemon_type = pokemon_details['types'][0]['type']['name']\n",
    "    pokemon_ability = pokemon_details['abilities'][0]['ability']['name']\n",
    "    pokemon_sprite_url = pokemon_details['sprites']['front_default']\n",
    "    return pokemon_name, pokemon_type, pokemon_ability, pokemon_sprite_url\n",
    "\n",
    "def get_pokemon_attributes(pokemon_name):\n",
    "    base_url = \"https://pokeapi.co/api/v2/\"\n",
    "    pokemon_url = f\"{base_url}pokemon/{pokemon_name}\"\n",
    "    response = requests.get(pokemon_url)\n",
    "\n",
    "    if response.status_code == 200:\n",
    "        pokemon_details = response.json()\n",
    "        attributes = {}\n",
    "\n",
    "        for stat in pokemon_details['stats']:\n",
    "            stat_name = stat['stat']['name']\n",
    "            stat_value = stat['base_stat']\n",
    "            attributes[stat_name] = stat_value\n",
    "\n",
    "        return attributes\n",
    "    else:\n",
    "        print(f\"Error: Failed to retrieve data for {pokemon_name}\")\n",
    "        return None\n",
    "\n",
    "response = requests.get('https://pokeapi.co/api/v2/pokedex/kanto')\n",
    "pokedex = response.json()\n",
    "kanto_pokemon = pokedex['pokemon_entries']\n",
    "selected_pokemon = random.sample(kanto_pokemon, 20)\n",
    "\n",
    "print(\"Here are 20 random Pokemon from the Kanto Pokedex:\")\n",
    "for pokemon in selected_pokemon:\n",
    "    pokemon_name, pokemon_type, pokemon_ability, pokemon_sprite_url = get_pokemon_details(pokemon)\n",
    "    print(f\"{pokemon_name:<15} (Type: {pokemon_type:<10}, Ability: {pokemon_ability:<20})\")\n",
    "    display(Image(url=pokemon_sprite_url))\n",
    "\n",
    "player1_name = input(\"Enter the name of player 1: \")\n",
    "player2_name = input(\"Enter the name of player 2: \")\n",
    "\n",
    "while True:\n",
    "    print(f\"\\n{player1_name}, choose your Pokemon!\")\n",
    "    player1_choice = input(\"Enter the name of the Pokemon you want to choose: \")\n",
    "\n",
    "    selected_pokemon_names = [get_pokemon_details(pokemon)[0] for pokemon in selected_pokemon]\n",
    "    if player1_choice not in selected_pokemon_names:\n",
    "        print(\"Invalid choice. Please try again.\")\n",
    "        continue\n",
    "\n",
    "    print(f\"\\n{player2_name}, choose your Pokemon!\")\n",
    "    player2_choice = input(\"Enter the name of the Pokemon you want to choose: \")\n",
    "\n",
    "    if player2_choice not in selected_pokemon_names or player2_choice == player1_choice:\n",
    "        print(\"Invalid choice. Please try again.\")\n",
    "        continue\n",
    "\n",
    "    break\n",
    "\n",
    "player1_stats = get_pokemon_attributes(player1_choice)\n",
    "player2_stats = get_pokemon_attributes(player2_choice)\n",
    "\n",
    "player1_total_stats = sum(player1_stats.values())\n",
    "player2_total_stats = sum(player2_stats.values())\n",
    "\n",
    "print(f\"Player 1: {player1_choice.upper()} with total base stats: {player1_total_stats}\\n\")\n",
    "print(f\"Player 2: {player2_choice.upper()} with total base stats: {player2_total_stats}\\n\")\n",
    "\n",
    "print(\"Let the battle begin!\\n\")\n",
    "time.sleep(1)\n",
    "\n",
    "print(\"Prepare for a clash of epic proportions\\n\")\n",
    "time.sleep(1)\n",
    "\n",
    "players = [(player1_choice, player1_total_stats), (player2_choice, player2_total_stats)]\n",
    "random.shuffle(players)\n",
    "first_player, first_player_total_stats = players[0]\n",
    "second_player, second_player_total_stats = players[1]\n",
    "\n",
    "print(f\"{first_player.upper()} attacks first!\\n\")\n",
    "time.sleep(1)\n",
    "\n",
    "while first_player_total_stats > 0 and second_player_total_stats > 0:\n",
    "    first_player_attack = random.randint(1, first_player_total_stats)\n",
    "    second_player_total_stats -= first_player_attack\n",
    "    print(f\"{first_player.upper()} attacks with {first_player_attack} strength!\")\n",
    "    time.sleep(1)\n",
    "\n",
    "    if second_player_total_stats <= 0:\n",
    "        break\n",
    "\n",
    "    second_player_attack = random.randint(1, second_player_total_stats)\n",
    "    first_player_total_stats -= second_player_attack\n",
    "    print(f\"{second_player.upper()} counterattacks with {second_player_attack} strength!\")\n",
    "    time.sleep(1)\n",
    "\n",
    "print(\"\\nThe battle is over!\\n\")\n",
    "time.sleep(1)\n",
    "\n",
    "if first_player_total_stats > second_player_total_stats:\n",
    "    print(f\"{first_player.upper()} wins!\")\n",
    "elif second_player_total_stats > first_player_total_stats:\n",
    "    print(f\"{second_player.upper()} wins!\")\n",
    "else:\n",
    "    print(\"It's a tie!\")\n",
    "\n"
   ]
  }
 ],
 "metadata": {
  "kernelspec": {
   "display_name": ".venv",
   "language": "python",
   "name": "python3"
  },
  "language_info": {
   "name": "python",
   "version": "3.10.4"
  },
  "orig_nbformat": 4
 },
 "nbformat": 4,
 "nbformat_minor": 2
}
