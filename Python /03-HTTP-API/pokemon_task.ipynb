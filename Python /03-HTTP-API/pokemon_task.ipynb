{
 "cells": [
  {
   "cell_type": "code",
   "execution_count": 1,
   "metadata": {},
   "outputs": [
    {
     "name": "stdout",
     "output_type": "stream",
     "text": [
      "Status code: 200\n"
     ]
    }
   ],
   "source": [
    "import requests\n",
    "import json \n",
    "\n",
    "response = requests.get(\"https://api.nobelprize.org/2.1/nobelPrizes\")\n",
    "print(\"Status code:\", response.status_code)"
   ]
  },
  {
   "cell_type": "code",
   "execution_count": 2,
   "metadata": {},
   "outputs": [
    {
     "name": "stdout",
     "output_type": "stream",
     "text": [
      "Here are 20 random Pokemon from the Kanto Pokedex:\n",
      "dewgong         (Type: water     , Ability: thick-fat           )\n",
      "weezing         (Type: poison    , Ability: levitate            )\n",
      "kingler         (Type: water     , Ability: hyper-cutter        )\n",
      "nidoran-f       (Type: poison    , Ability: poison-point        )\n",
      "rhyhorn         (Type: ground    , Ability: lightning-rod       )\n",
      "dragonair       (Type: dragon    , Ability: shed-skin           )\n",
      "gyarados        (Type: water     , Ability: intimidate          )\n",
      "pidgey          (Type: normal    , Ability: keen-eye            )\n",
      "pinsir          (Type: bug       , Ability: hyper-cutter        )\n",
      "magneton        (Type: electric  , Ability: magnet-pull         )\n",
      "wigglytuff      (Type: normal    , Ability: cute-charm          )\n",
      "ditto           (Type: normal    , Ability: limber              )\n",
      "spearow         (Type: normal    , Ability: keen-eye            )\n",
      "oddish          (Type: grass     , Ability: chlorophyll         )\n",
      "clefairy        (Type: fairy     , Ability: cute-charm          )\n",
      "dugtrio         (Type: ground    , Ability: sand-veil           )\n",
      "beedrill        (Type: bug       , Ability: swarm               )\n",
      "omanyte         (Type: rock      , Ability: swift-swim          )\n",
      "eevee           (Type: normal    , Ability: run-away            )\n",
      "ekans           (Type: poison    , Ability: intimidate          )\n",
      "\n",
      "Choose 1 and begin your journey!\n",
      "No time to play around... Select your Warrior!\n",
      "\n",
      "Choose 1 and begin your journey!\n",
      "You have chosen ekans. Let us begin!\n",
      "\n",
      "Game starting...\n"
     ]
    }
   ],
   "source": [
    "import requests\n",
    "import random\n",
    "\n",
    "# Make a GET request to the PokeAPI to retrieve information about the Kanto Pokedex\n",
    "response = requests.get('https://pokeapi.co/api/v2/pokedex/kanto')\n",
    "\n",
    "# Parse the JSON response into a Python dictionary\n",
    "pokedex = response.json()\n",
    "\n",
    "# Retrieve the list of Pokemon in the Kanto Pokedex\n",
    "kanto_pokemon = pokedex['pokemon_entries']\n",
    "\n",
    "# Randomly select 20 Pokemon from the Kanto Pokedex\n",
    "selected_pokemon = random.sample(kanto_pokemon, 20)\n",
    "\n",
    "# Print information about the selected Pokemon\n",
    "print(\"Here are 20 random Pokemon from the Kanto Pokedex:\")\n",
    "for pokemon in selected_pokemon:\n",
    "    pokemon_data = requests.get(pokemon['pokemon_species']['url']).json()\n",
    "    pokemon_name = pokemon_data['name']\n",
    "    pokemon_url = pokemon_data['varieties'][0]['pokemon']['url']\n",
    "    pokemon_details = requests.get(pokemon_url).json()\n",
    "    pokemon_type = pokemon_details['types'][0]['type']['name']\n",
    "    pokemon_ability = pokemon_details['abilities'][0]['ability']['name']\n",
    "    print(f\"{pokemon_name:<15} (Type: {pokemon_type:<10}, Ability: {pokemon_ability:<20})\")\n",
    "\n",
    "# Prompt the user to select a Pokemon\n",
    "while True:\n",
    "    print(\"\\nChoose 1 and begin your journey!\")\n",
    "    pokemon_choice = input(\"Enter the name of the Pokemon you want to choose: \")\n",
    "\n",
    "    # Find the selected Pokemon in the list of randomly selected Pokemon\n",
    "    selected_pokemon_names = [pokemon_data['name'] for pokemon_data in [requests.get(pokemon['pokemon_species']['url']).json() for pokemon in selected_pokemon]]\n",
    "    \n",
    "    if pokemon_choice in selected_pokemon_names:\n",
    "        print(f\"You have chosen {pokemon_choice}. Let us begin!\")\n",
    "        break\n",
    "    else:\n",
    "        print(\"No time to play around... Select your Warrior!\")\n",
    "\n",
    "print(\"\\nGame starting...\")\n"
   ]
  },
  {
   "cell_type": "code",
   "execution_count": 4,
   "metadata": {},
   "outputs": [
    {
     "name": "stdout",
     "output_type": "stream",
     "text": [
      "Attributes for Zubat:\n",
      "Hp: 40\n",
      "Attack: 45\n",
      "Defense: 35\n",
      "Special-attack: 30\n",
      "Special-defense: 40\n",
      "Speed: 55\n"
     ]
    }
   ],
   "source": [
    "import requests\n",
    "\n",
    "def get_pokemon_attributes(pokemon_name):\n",
    "    base_url = \"https://pokeapi.co/api/v2/\"\n",
    "    pokemon_url = f\"{base_url}pokemon/{pokemon_name}\"\n",
    "    response = requests.get(pokemon_url)\n",
    "\n",
    "    if response.status_code == 200:\n",
    "        pokemon_details = response.json()\n",
    "        attributes = {}\n",
    "\n",
    "        for stat in pokemon_details['stats']:\n",
    "            stat_name = stat['stat']['name']\n",
    "            stat_value = stat['base_stat']\n",
    "            attributes[stat_name] = stat_value\n",
    "\n",
    "        return attributes\n",
    "    else:\n",
    "        print(f\"Error: Failed to retrieve data for {pokemon_name}\")\n",
    "        return None\n",
    "\n",
    "pokemon_name = \"zubat\"  # PUT THE NAME OF THE POKEMON YOU WANT \n",
    "attributes = get_pokemon_attributes(pokemon_name)\n",
    "\n",
    "if attributes:\n",
    "    print(f\"Attributes for {pokemon_name.capitalize()}:\")\n",
    "    for stat_name, stat_value in attributes.items():\n",
    "        print(f\"{stat_name.capitalize()}: {stat_value}\")\n"
   ]
  }
 ],
 "metadata": {
  "kernelspec": {
   "display_name": ".venv",
   "language": "python",
   "name": "python3"
  },
  "language_info": {
   "codemirror_mode": {
    "name": "ipython",
    "version": 3
   },
   "file_extension": ".py",
   "mimetype": "text/x-python",
   "name": "python",
   "nbconvert_exporter": "python",
   "pygments_lexer": "ipython3",
   "version": "3.10.4"
  },
  "orig_nbformat": 4
 },
 "nbformat": 4,
 "nbformat_minor": 2
}
