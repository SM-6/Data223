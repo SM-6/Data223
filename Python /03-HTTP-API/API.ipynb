{
 "cells": [
  {
   "attachments": {},
   "cell_type": "markdown",
   "metadata": {},
   "source": [
    "# Making API request with python "
   ]
  },
  {
   "cell_type": "code",
   "execution_count": 11,
   "metadata": {},
   "outputs": [
    {
     "name": "stdout",
     "output_type": "stream",
     "text": [
      "Status code: 200\n"
     ]
    }
   ],
   "source": [
    "import requests\n",
    "import json \n",
    "\n",
    "response = requests.get(\"https://api.postcodes.io/postcodes/E146GT\")\n",
    "print(\"Status code:\", response.status_code)"
   ]
  },
  {
   "cell_type": "code",
   "execution_count": 12,
   "metadata": {},
   "outputs": [
    {
     "data": {
      "text/plain": [
       "requests.models.Response"
      ]
     },
     "execution_count": 12,
     "metadata": {},
     "output_type": "execute_result"
    }
   ],
   "source": [
    "type(response)"
   ]
  },
  {
   "cell_type": "code",
   "execution_count": 22,
   "metadata": {},
   "outputs": [
    {
     "data": {
      "text/plain": [
       "{'status': 200,\n",
       " 'result': {'postcode': 'E14 6GT',\n",
       "  'quality': 1,\n",
       "  'eastings': 537429,\n",
       "  'northings': 181252,\n",
       "  'country': 'England',\n",
       "  'nhs_ha': 'London',\n",
       "  'longitude': -0.020896,\n",
       "  'latitude': 51.513485,\n",
       "  'european_electoral_region': 'London',\n",
       "  'primary_care_trust': 'Tower Hamlets',\n",
       "  'region': 'London',\n",
       "  'lsoa': 'Tower Hamlets 024B',\n",
       "  'msoa': 'Tower Hamlets 024',\n",
       "  'incode': '6GT',\n",
       "  'outcode': 'E14',\n",
       "  'parliamentary_constituency': 'Poplar and Limehouse',\n",
       "  'admin_district': 'Tower Hamlets',\n",
       "  'parish': 'Tower Hamlets, unparished area',\n",
       "  'admin_county': None,\n",
       "  'date_of_introduction': '201411',\n",
       "  'admin_ward': 'Lansbury',\n",
       "  'ced': None,\n",
       "  'ccg': 'NHS North East London',\n",
       "  'nuts': 'Tower Hamlets',\n",
       "  'pfa': 'Metropolitan Police',\n",
       "  'codes': {'admin_district': 'E09000030',\n",
       "   'admin_county': 'E99999999',\n",
       "   'admin_ward': 'E05009325',\n",
       "   'parish': 'E43000220',\n",
       "   'parliamentary_constituency': 'E14000882',\n",
       "   'ccg': 'E38000255',\n",
       "   'ccg_id': 'A3A8R',\n",
       "   'ced': 'E99999999',\n",
       "   'nuts': 'TLI42',\n",
       "   'lsoa': 'E01004253',\n",
       "   'msoa': 'E02000887',\n",
       "   'lau2': 'E09000030',\n",
       "   'pfa': 'E23000001'}}}"
      ]
     },
     "execution_count": 22,
     "metadata": {},
     "output_type": "execute_result"
    }
   ],
   "source": [
    "response_dict "
   ]
  },
  {
   "cell_type": "code",
   "execution_count": null,
   "metadata": {},
   "outputs": [],
   "source": [
    "\n",
    "response_dict[\"result\"]"
   ]
  },
  {
   "attachments": {},
   "cell_type": "markdown",
   "metadata": {},
   "source": [
    "# Post Requests "
   ]
  },
  {
   "cell_type": "code",
   "execution_count": 20,
   "metadata": {},
   "outputs": [
    {
     "data": {
      "text/plain": [
       "dict"
      ]
     },
     "execution_count": 20,
     "metadata": {},
     "output_type": "execute_result"
    }
   ],
   "source": [
    "post_request = {\n",
    "  \"postcodes\" : [\"OX49 5NU\", \"M32 0JG\", \"NE30 1DP\"]\n",
    "}\n",
    "type(post_request)\n"
   ]
  },
  {
   "cell_type": "code",
   "execution_count": 21,
   "metadata": {},
   "outputs": [
    {
     "data": {
      "text/plain": [
       "str"
      ]
     },
     "execution_count": 21,
     "metadata": {},
     "output_type": "execute_result"
    }
   ],
   "source": [
    "json_body = json.dumps(post_request)\n",
    "type(json_body)"
   ]
  },
  {
   "cell_type": "code",
   "execution_count": null,
   "metadata": {},
   "outputs": [],
   "source": [
    "\n",
    "\n",
    "response = requests.post(\"https://api.postcodes.io/postcodes/E146GT\")\n"
   ]
  }
 ],
 "metadata": {
  "kernelspec": {
   "display_name": ".venv",
   "language": "python",
   "name": "python3"
  },
  "language_info": {
   "codemirror_mode": {
    "name": "ipython",
    "version": 3
   },
   "file_extension": ".py",
   "mimetype": "text/x-python",
   "name": "python",
   "nbconvert_exporter": "python",
   "pygments_lexer": "ipython3",
   "version": "3.10.4"
  },
  "orig_nbformat": 4
 },
 "nbformat": 4,
 "nbformat_minor": 2
}
